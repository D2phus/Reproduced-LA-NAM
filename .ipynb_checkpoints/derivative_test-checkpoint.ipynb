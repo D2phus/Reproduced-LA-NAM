{
 "cells": [
  {
   "cell_type": "code",
   "execution_count": 21,
   "metadata": {},
   "outputs": [],
   "source": [
    "import torch\n",
    "\n",
    "from backpack import backpack, extend\n",
    "from backpack.extensions import BatchGrad\n",
    "from backpack.extensions.firstorder.base import FirstOrderModuleExtension\n",
    "\n",
    "from LANAM.models.activation.exu import ExU\n",
    "from LANAM.models.extended_laplace.curvature.extensions import BatchGradExU"
   ]
  },
  {
   "cell_type": "code",
   "execution_count": 11,
   "metadata": {},
   "outputs": [],
   "source": [
    "# register module-computation mapping\n",
    "extension = BatchGrad()\n",
    "extension.set_module_extension(ExU, BatchGradExU())"
   ]
  },
  {
   "cell_type": "code",
   "execution_count": 14,
   "metadata": {},
   "outputs": [
    {
     "name": "stderr",
     "output_type": "stream",
     "text": [
      "/share/apps/anaconda-ci/fgci-centos7-anaconda/software/anaconda/2023-03/6a700484/lib/python3.10/site-packages/torch/nn/init.py:176: UserWarning: mean is more than 2 std from [a, b] in nn.init.trunc_normal_. The distribution of values may be incorrect.\n",
      "  return _no_grad_trunc_normal_(tensor, mean, std, a, b)\n"
     ]
    }
   ],
   "source": [
    "batch_size = 10\n",
    "batch_axis = 0\n",
    "input_size = 4\n",
    "device = 'cpu'\n",
    "\n",
    "inputs = torch.randn(batch_size, input_size, device=device)\n",
    "targets = torch.randint(0, 2, (batch_size,), device=device)\n",
    "\n",
    "reduction = [\"mean\", \"sum\"][1]\n",
    "my_module = ExU(input_size, 2).to(device)\n",
    "lossfunc = torch.nn.CrossEntropyLoss(reduction=reduction).to(device)"
   ]
  },
  {
   "cell_type": "code",
   "execution_count": 15,
   "metadata": {},
   "outputs": [
    {
     "name": "stdout",
     "output_type": "stream",
     "text": [
      "bias.shape:              torch.Size([4])\n",
      "grad_batch_autograd.shape: torch.Size([10, 4])\n"
     ]
    }
   ],
   "source": [
    "grad_batch_autograd = []\n",
    "\n",
    "for input_n, target_n in zip(\n",
    "    inputs.split(1, dim=batch_axis), targets.split(1, dim=batch_axis)\n",
    "):\n",
    "    loss_n = lossfunc(my_module(input_n), target_n)\n",
    "    grad_n = torch.autograd.grad(loss_n, [my_module.bias])[0]\n",
    "    grad_batch_autograd.append(grad_n)\n",
    "\n",
    "grad_batch_autograd = torch.stack(grad_batch_autograd)\n",
    "\n",
    "print(\"bias.shape:             \", my_module.bias.shape)\n",
    "print(\"grad_batch_autograd.shape:\", grad_batch_autograd.shape)"
   ]
  },
  {
   "cell_type": "code",
   "execution_count": 16,
   "metadata": {},
   "outputs": [
    {
     "name": "stdout",
     "output_type": "stream",
     "text": [
      "weight.shape:              torch.Size([4])\n",
      "grad_batch_backpack.shape: torch.Size([10, 4])\n"
     ]
    }
   ],
   "source": [
    "my_module = extend(my_module)\n",
    "lossfunc = extend(lossfunc)\n",
    "\n",
    "loss = lossfunc(my_module(inputs), targets)\n",
    "\n",
    "with backpack(extension):\n",
    "    loss.backward()\n",
    "\n",
    "grad_batch_backpack = my_module.bias.grad_batch\n",
    "\n",
    "print(\"weight.shape:             \", my_module.bias.shape)\n",
    "print(\"grad_batch_backpack.shape:\", grad_batch_backpack.shape)"
   ]
  },
  {
   "cell_type": "code",
   "execution_count": 17,
   "metadata": {},
   "outputs": [
    {
     "name": "stdout",
     "output_type": "stream",
     "text": [
      "autograd and BackPACK individual gradients match? True\n"
     ]
    }
   ],
   "source": [
    "match = torch.allclose(grad_batch_autograd, grad_batch_backpack)\n",
    "\n",
    "print(f\"autograd and BackPACK individual gradients match? {match}\")\n",
    "\n",
    "if not match:\n",
    "    raise AssertionError(\n",
    "        \"Individual gradients don't match:\"\n",
    "        + f\"\\n{grad_batch_autograd}\\nvs.\\n{grad_batch_backpack}\"\n",
    "    )"
   ]
  },
  {
   "cell_type": "code",
   "execution_count": 18,
   "metadata": {},
   "outputs": [
    {
     "name": "stdout",
     "output_type": "stream",
     "text": [
      "weight.shape:              torch.Size([4, 2])\n",
      "grad_batch_autograd.shape: torch.Size([10, 4, 2])\n"
     ]
    }
   ],
   "source": [
    "grad_batch_autograd = []\n",
    "\n",
    "for input_n, target_n in zip(\n",
    "    inputs.split(1, dim=batch_axis), targets.split(1, dim=batch_axis)\n",
    "):\n",
    "    loss_n = lossfunc(my_module(input_n), target_n)\n",
    "    grad_n = torch.autograd.grad(loss_n, [my_module.weight])[0]\n",
    "    grad_batch_autograd.append(grad_n)\n",
    "\n",
    "grad_batch_autograd = torch.stack(grad_batch_autograd)\n",
    "\n",
    "print(\"weight.shape:             \", my_module.weight.shape)\n",
    "print(\"grad_batch_autograd.shape:\", grad_batch_autograd.shape)"
   ]
  },
  {
   "cell_type": "code",
   "execution_count": 19,
   "metadata": {},
   "outputs": [
    {
     "name": "stdout",
     "output_type": "stream",
     "text": [
      "weight.shape:              torch.Size([4, 2])\n",
      "grad_batch_backpack.shape: torch.Size([10, 4, 2])\n"
     ]
    }
   ],
   "source": [
    "my_module = extend(my_module)\n",
    "lossfunc = extend(lossfunc)\n",
    "\n",
    "loss = lossfunc(my_module(inputs), targets)\n",
    "\n",
    "with backpack(extension):\n",
    "    loss.backward()\n",
    "\n",
    "grad_batch_backpack = my_module.weight.grad_batch\n",
    "\n",
    "print(\"weight.shape:             \", my_module.weight.shape)\n",
    "print(\"grad_batch_backpack.shape:\", grad_batch_backpack.shape)"
   ]
  },
  {
   "cell_type": "code",
   "execution_count": 20,
   "metadata": {},
   "outputs": [
    {
     "name": "stdout",
     "output_type": "stream",
     "text": [
      "autograd and BackPACK individual gradients match? True\n"
     ]
    }
   ],
   "source": [
    "match = torch.allclose(grad_batch_autograd, grad_batch_backpack)\n",
    "\n",
    "print(f\"autograd and BackPACK individual gradients match? {match}\")\n",
    "\n",
    "if not match:\n",
    "    raise AssertionError(\n",
    "        \"Individual gradients don't match:\"\n",
    "        + f\"\\n{grad_batch_autograd}\\nvs.\\n{grad_batch_backpack}\"\n",
    "    )"
   ]
  },
  {
   "cell_type": "code",
   "execution_count": null,
   "metadata": {},
   "outputs": [],
   "source": []
  },
  {
   "cell_type": "code",
   "execution_count": null,
   "metadata": {},
   "outputs": [],
   "source": []
  }
 ],
 "metadata": {
  "kernelspec": {
   "display_name": "Python (module anaconda)",
   "language": "python",
   "name": "python3"
  },
  "language_info": {
   "codemirror_mode": {
    "name": "ipython",
    "version": 3
   },
   "file_extension": ".py",
   "mimetype": "text/x-python",
   "name": "python",
   "nbconvert_exporter": "python",
   "pygments_lexer": "ipython3",
   "version": "3.10.8"
  }
 },
 "nbformat": 4,
 "nbformat_minor": 4
}
