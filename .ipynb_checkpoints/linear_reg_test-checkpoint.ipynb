{
 "cells": [
  {
   "cell_type": "markdown",
   "metadata": {},
   "source": [
    "# Reproduce the Laplace-approximated NAM\n",
    "## References\n",
    "```  \n",
    "@misc{bouchiat2023laplaceapproximated,\n",
    "      title={Laplace-Approximated Neural Additive Models: Improving Interpretability with Bayesian Inference}, \n",
    "      author={Kouroche Bouchiat and Alexander Immer and Hugo Yèche and Gunnar Rätsch and Vincent Fortuin},\n",
    "      year={2023},\n",
    "      eprint={2305.16905},\n",
    "      archivePrefix={arXiv},\n",
    "      primaryClass={stat.ML}\n",
    "}\n",
    "```"
   ]
  },
  {
   "cell_type": "code",
   "execution_count": 1,
   "metadata": {},
   "outputs": [
    {
     "data": {
      "text/plain": [
       "'\\nReference:\\n@misc{kayid2020nams,\\n  title={Neural additive models Library},\\n  author={Kayid, Amr and Frosst, Nicholas and Hinton, Geoffrey E},\\n  year={2020}\\n}\\n'"
      ]
     },
     "execution_count": 1,
     "metadata": {},
     "output_type": "execute_result"
    }
   ],
   "source": [
    "import torch\n",
    "import torch.nn as nn\n",
    "import torch.nn.functional as F\n",
    "from torch.nn.utils import parameters_to_vector, vector_to_parameters\n",
    "\n",
    "from LANAM.models import LaNAM, BayesianLinearRegression\n",
    "\n",
    "from LANAM.config.default import defaults\n",
    "\n",
    "from LANAM.trainer.training import *\n",
    "from LANAM.trainer.marglik_training import *\n",
    "\n",
    "from LANAM.data.generator import *\n",
    "from LANAM.data.toydataset import ToyDataset\n",
    "\n",
    "from LANAM.utils.plotting import * \n",
    "\n",
    "import matplotlib.pyplot as plt \n",
    "import numpy as np\n",
    "\n",
    "\n",
    "from laplace import Laplace\n",
    "from laplace import marglik_training as lamt\n",
    "from laplace.curvature.backpack import BackPackGGN\n",
    "\"\"\"\n",
    "Reference:\n",
    "@misc{kayid2020nams,\n",
    "  title={Neural additive models Library},\n",
    "  author={Kayid, Amr and Frosst, Nicholas and Hinton, Geoffrey E},\n",
    "  year={2020}\n",
    "}\n",
    "\"\"\""
   ]
  },
  {
   "cell_type": "code",
   "execution_count": 2,
   "metadata": {},
   "outputs": [],
   "source": [
    "%reload_ext autoreload \n",
    "%autoreload 2"
   ]
  },
  {
   "cell_type": "markdown",
   "metadata": {},
   "source": [
    "## test: linear toy data\n",
    "1. dataset: $y \\sim N(f(x), \\sigma^2)$, where $f(x) = 0.3x-0.7, \\sigma = 0.2$.\n",
    "2. model: Bayesian linear regression, Linear layer with laplace approximation, LA-NAM"
   ]
  },
  {
   "cell_type": "code",
   "execution_count": 3,
   "metadata": {},
   "outputs": [
    {
     "data": {
      "text/plain": [
       "[<matplotlib.lines.Line2D at 0x2b3cd3dd15d0>]"
      ]
     },
     "execution_count": 3,
     "metadata": {},
     "output_type": "execute_result"
    },
    {
     "data": {
      "image/png": "[encoded data removed]",
      "text/plain": [
       "<Figure size 640x480 with 1 Axes>"
      ]
     },
     "metadata": {},
     "output_type": "display_data"
    }
   ],
   "source": [
    "slope, bias = 0.3, -0.7\n",
    "X_train, y_train, train_loader, X_test = get_linear_examples(slope=slope, bias=bias)\n",
    "X_val, y_val, val_loader, _ = get_linear_examples(slope=slope, bias=bias)\n",
    "\n",
    "plt.plot(X_train, y_train, '.')"
   ]
  },
  {
   "cell_type": "code",
   "execution_count": 4,
   "metadata": {},
   "outputs": [],
   "source": [
    "def get_blr(X, y): \n",
    "    return BayesianLinearRegression(X, y)\n",
    "\n",
    "def get_lanam(in_features, cfg):\n",
    "    return LaNAM(\n",
    "            config=cfg, \n",
    "            name=\"LaNAM\", \n",
    "            in_features=in_features, \n",
    "            hessian_structure='full')\n",
    "\n",
    "def get_linear_model(): \n",
    "    return nn.Linear(1, 1)"
   ]
  },
  {
   "cell_type": "code",
   "execution_count": 5,
   "metadata": {},
   "outputs": [],
   "source": [
    "cfg = defaults()\n",
    "cfg.hidden_sizes = []\n",
    "cfg.activation = False\n",
    "in_features = X_train.shape[1]"
   ]
  },
  {
   "cell_type": "code",
   "execution_count": 6,
   "metadata": {},
   "outputs": [
    {
     "name": "stdout",
     "output_type": "stream",
     "text": [
      "LaNAM(\n",
      "  (lossfunc): MSELoss()\n",
      "  (_feature_nns): ModuleList(\n",
      "    (0): FeatureNN(\n",
      "      (model): Sequential(\n",
      "        (0): Linear(in_features=1, out_features=1, bias=True)\n",
      "      )\n",
      "    )\n",
      "  )\n",
      ")\n",
      "=============EPOCH 1==============\n",
      "loss_train:  9.843, loss_val:  9.638\n",
      "=============EPOCH 101==============\n",
      "loss_train:  0.038, loss_val:  0.040\n",
      "=============EPOCH 201==============\n",
      "loss_train:  0.035, loss_val:  0.039\n",
      "=============EPOCH 301==============\n",
      "loss_train:  0.035, loss_val:  0.039\n",
      "Finished Training.\n"
     ]
    }
   ],
   "source": [
    "blr = get_blr(X_train, y_train)\n",
    "lanam = get_lanam(in_features, cfg)\n",
    "print(lanam)\n",
    "loss = train(cfg, lanam, train_loader, val_loader)\n",
    "lanam.fit(loss, train_loader)"
   ]
  },
  {
   "cell_type": "code",
   "execution_count": 7,
   "metadata": {},
   "outputs": [
    {
     "name": "stdout",
     "output_type": "stream",
     "text": [
      "tensor([ 0.3024, -0.7026])\n"
     ]
    }
   ],
   "source": [
    "linear_model = get_linear_model()\n",
    "params = parameters_to_vector(lanam.feature_nns[0].parameters()).detach()\n",
    "print(params)\n",
    "vector_to_parameters(params, linear_model.parameters()) # assign nam and linear layer the same parameters\n",
    "# loss = train(cfg, linear_model, train_loader, val_loader)\n",
    "la = Laplace(linear_model, 'regression', subset_of_weights='all', hessian_structure='full')\n",
    "la.fit(train_loader)"
   ]
  },
  {
   "cell_type": "code",
   "execution_count": 8,
   "metadata": {},
   "outputs": [],
   "source": [
    "np.testing.assert_allclose(la.posterior_precision, lanam.posterior_precision, atol=1e-6)\n",
    "np.testing.assert_allclose(blr.posterior_precision, lanam.posterior_precision, atol=1e-3)\n",
    "\n",
    "np.testing.assert_allclose(la.posterior_covariance, lanam.posterior_covariance, atol=1e-6)\n",
    "\n",
    "f_mu_blr, f_var_blr = blr.predict(X_test)\n",
    "f_mu_la, f_var_la = la(X_test)\n",
    "f_mu_lanam, f_var_lanam, fnn_mu, fnn_var = lanam.predict(X_test)\n",
    "\n",
    "#np.testing.assert_allclose(f_var_blr.flatten(), f_var_la.flatten(), atol=1e-6)\n",
    "np.testing.assert_allclose(f_var_lanam.flatten(), f_var_la.flatten(), atol=1e-8)\n",
    "\n",
    "np.testing.assert_allclose(f_mu_blr.flatten(), f_mu_lanam.flatten(), atol=1e-1)\n",
    "np.testing.assert_allclose(f_mu_la.flatten(), f_mu_lanam.flatten(), atol=1e-8)"
   ]
  },
  {
   "cell_type": "code",
   "execution_count": 9,
   "metadata": {},
   "outputs": [
    {
     "name": "stdout",
     "output_type": "stream",
     "text": [
      "tensor([1.])\n",
      "tensor(1.)\n",
      "tensor(1.)\n"
     ]
    }
   ],
   "source": [
    "print(lanam.sigma_noise)\n",
    "print(lanam.feature_nns[0].sigma_noise)\n",
    "print(lanam.feature_nns[0].la.sigma_noise)"
   ]
  },
  {
   "cell_type": "markdown",
   "metadata": {},
   "source": [
    "### post-hoc tuning"
   ]
  },
  {
   "cell_type": "code",
   "execution_count": 10,
   "metadata": {},
   "outputs": [],
   "source": [
    "# la-nam\n",
    "n_epochs = 1000\n",
    "log_prior, log_sigma = torch.ones(in_features, requires_grad=True), torch.ones(in_features, requires_grad=True)\n",
    "hyper_optimizer = torch.optim.Adam([log_prior, log_sigma], lr=1e-1)\n",
    "for i in range(n_epochs):\n",
    "    hyper_optimizer.zero_grad()\n",
    "    neg_marglik = - lanam.log_marginal_likelihood(log_prior.exp(), log_sigma.exp())\n",
    "    neg_marglik.backward()\n",
    "    hyper_optimizer.step()"
   ]
  },
  {
   "cell_type": "code",
   "execution_count": 11,
   "metadata": {},
   "outputs": [],
   "source": [
    "# laplace-torch\n",
    "log_prior_, log_sigma_ = torch.ones(1, requires_grad=True), torch.ones(1, requires_grad=True)\n",
    "hyper_optimizer = torch.optim.Adam([log_prior_, log_sigma_], lr=1e-1)\n",
    "for i in range(n_epochs):\n",
    "    hyper_optimizer.zero_grad()\n",
    "    neg_marglik = - la.log_marginal_likelihood(log_prior_.exp(), log_sigma_.exp())\n",
    "    neg_marglik.backward()\n",
    "    hyper_optimizer.step()"
   ]
  },
  {
   "cell_type": "code",
   "execution_count": 12,
   "metadata": {},
   "outputs": [],
   "source": [
    "# Bayesian linear regression\n",
    "log_sigma = torch.ones(1, requires_grad=True) # log std deviation of the regression Gaussian noise\n",
    "log_prior_var = torch.ones(1, requires_grad=True) # log variance of parameter prior \n",
    "lr = 1e-1\n",
    "optimizer = torch.optim.Adam([log_prior_var, log_sigma], lr=lr)\n",
    "for epoch in range(n_epochs): \n",
    "    optimizer.zero_grad()\n",
    "    neg_log_marg_lik = -blr.log_marginal_likelihood(log_prior_var.exp(), log_sigma.exp())\n",
    "    neg_log_marg_lik.backward()\n",
    "    optimizer.step()"
   ]
  },
  {
   "cell_type": "code",
   "execution_count": 13,
   "metadata": {},
   "outputs": [
    {
     "name": "stdout",
     "output_type": "stream",
     "text": [
      "tensor([0.1890], grad_fn=<MulBackward0>) tensor(0.1889, grad_fn=<SelectBackward0>)\n",
      "tensor([3.4143], grad_fn=<MulBackward0>) tensor([3.4143], grad_fn=<ExpBackward0>)\n",
      "tensor(28.0067, grad_fn=<DivBackward0>) tensor(28.0311, grad_fn=<DivBackward0>)\n",
      "200 200\n",
      "1 1\n",
      "tensor(3.5349) tensor(3.5318)\n",
      "tensor([[ 3.4914e-05, -1.3075e-04],\n",
      "        [-1.3075e-04,  6.6804e-04]], grad_fn=<MmBackward0>) tensor([[ 3.4884e-05, -1.3063e-04],\n",
      "        [-1.3063e-04,  6.6746e-04]], grad_fn=<MmBackward0>)\n",
      "tensor(50.4556, grad_fn=<SubBackward0>) tensor(50.5425, grad_fn=<SubBackward0>)\n",
      "tensor(41.2377, grad_fn=<SubBackward0>) tensor(41.3238, grad_fn=<SubBackward0>)\n"
     ]
    }
   ],
   "source": [
    "from math import sqrt, pi\n",
    "print(lanam.sigma_noise, la.sigma_noise)\n",
    "print(lanam.prior_precision, la.prior_precision)\n",
    "\n",
    "print(lanam._H_factor, la._H_factor)\n",
    "print(lanam.n_data, la.n_data)\n",
    "print(lanam.n_outputs, la.n_outputs)\n",
    "print(lanam.loss, la.loss)\n",
    "\n",
    "print(lanam.posterior_covariance, la.posterior_covariance)\n",
    "print(lanam.log_likelihood, la.log_likelihood)\n",
    "print(lanam.log_marginal_likelihood(), la.log_marginal_likelihood())"
   ]
  },
  {
   "cell_type": "code",
   "execution_count": 15,
   "metadata": {},
   "outputs": [
    {
     "name": "stdout",
     "output_type": "stream",
     "text": [
      "tensor(0.1889) tensor([0.1890]) tensor([0.1889])\n",
      "tensor([3.4143]) tensor([3.4143]) tensor([3.4286])\n"
     ]
    }
   ],
   "source": [
    "sigma_lanam = lanam.sigma_noise.detach() \n",
    "sigma_la = la.sigma_noise.detach()\n",
    "prior_lanam = lanam.prior_precision.detach()\n",
    "prior_la = la.prior_precision.detach()\n",
    "\n",
    "sigma_blr = blr.sigma_noise.detach()\n",
    "prior_blr = blr.prior_precision.detach()\n",
    "\n",
    "print(sigma_la, sigma_lanam, sigma_blr)\n",
    "print(prior_la, prior_lanam, prior_blr)\n",
    "np.testing.assert_allclose(sigma_la, sigma_lanam, atol=1e-2)\n",
    "np.testing.assert_allclose(prior_la, prior_lanam, atol=1e-1)"
   ]
  },
  {
   "cell_type": "markdown",
   "metadata": {},
   "source": [
    "### online tuning"
   ]
  },
  {
   "cell_type": "code",
   "execution_count": 16,
   "metadata": {},
   "outputs": [],
   "source": [
    "linear_model = get_linear_model()\n",
    "n_epochs = 300\n",
    "la, linear_model, margliks, losses = lamt(\n",
    "    model=linear_model, train_loader=train_loader, likelihood='regression',\n",
    "    hessian_structure='full', backend=BackPackGGN, n_epochs=n_epochs, \n",
    "    optimizer_kwargs={'lr': 1e-2}, prior_structure='scalar'\n",
    ")"
   ]
  },
  {
   "cell_type": "code",
   "execution_count": 21,
   "metadata": {},
   "outputs": [
    {
     "name": "stdout",
     "output_type": "stream",
     "text": [
      "EPOCH=1: epoch_loss= 1.727, epoch_perf= 1.722\n",
      "EPOCH=51: epoch_loss= 0.038, epoch_perf= 0.038\n",
      "EPOCH=101: epoch_loss= 0.036, epoch_perf= 0.036\n",
      "EPOCH=151: epoch_loss= 0.036, epoch_perf= 0.036\n",
      "EPOCH=201: epoch_loss= 0.036, epoch_perf= 0.036\n",
      "EPOCH=251: epoch_loss= 0.036, epoch_perf= 0.036\n",
      "MARGLIK: finished training. Recover best model and fit Laplace.\n"
     ]
    }
   ],
   "source": [
    "lanam = get_lanam(in_features, cfg)\n",
    "lanam, margliks, losses = marglik_training(\n",
    "    lanam, train_loader, train_loader, 'regression', n_epochs=n_epochs, hessian_structure='full', backend=BackPackGGN,\n",
    "    optimizer_kwargs={'lr': 1e-2})"
   ]
  },
  {
   "cell_type": "code",
   "execution_count": 22,
   "metadata": {},
   "outputs": [
    {
     "name": "stdout",
     "output_type": "stream",
     "text": [
      "tensor([ 0.2966, -0.6997]) tensor([ 0.3019, -0.7010], grad_fn=<ReshapeAliasBackward0>) tensor([ 0.2953, -0.6930])\n"
     ]
    }
   ],
   "source": [
    "params = parameters_to_vector(lanam.feature_nns[0].parameters()).detach()\n",
    "print(params, blr.mean.flatten(), la.mean)"
   ]
  },
  {
   "cell_type": "code",
   "execution_count": 23,
   "metadata": {},
   "outputs": [
    {
     "name": "stdout",
     "output_type": "stream",
     "text": [
      "tensor([0.1906], grad_fn=<MulBackward0>) tensor(0.1903)\n",
      "tensor([3.5204], grad_fn=<MulBackward0>) tensor([3.5200])\n",
      "tensor(27.5164, grad_fn=<DivBackward0>) tensor(27.6278)\n",
      "200 200\n",
      "1 1\n",
      "tensor(3.5978) tensor(3.5834)\n",
      "tensor([[ 3.5533e-05, -1.3306e-04],\n",
      "        [-1.3306e-04,  6.7987e-04]], grad_fn=<MmBackward0>) tensor([[ 3.5390e-05, -1.3253e-04],\n",
      "        [-1.3253e-04,  6.7713e-04]])\n",
      "tensor(48.6920, grad_fn=<SubBackward0>) tensor(49.0934)\n",
      "tensor(39.5225, grad_fn=<SubBackward0>) tensor(39.9197)\n"
     ]
    }
   ],
   "source": [
    "from math import sqrt, pi\n",
    "print(lanam.sigma_noise, la.sigma_noise)\n",
    "print(lanam.prior_precision, la.prior_precision)\n",
    "\n",
    "print(lanam._H_factor, la._H_factor)\n",
    "print(lanam.n_data, la.n_data)\n",
    "print(lanam.n_outputs, la.n_outputs)\n",
    "print(lanam.loss, la.loss)\n",
    "\n",
    "print(lanam.posterior_covariance, la.posterior_covariance)\n",
    "print(lanam.log_likelihood, la.log_likelihood)\n",
    "print(lanam.log_marginal_likelihood(), la.log_marginal_likelihood())"
   ]
  },
  {
   "cell_type": "code",
   "execution_count": 25,
   "metadata": {},
   "outputs": [
    {
     "name": "stdout",
     "output_type": "stream",
     "text": [
      "tensor(0.1903) tensor([0.1906]) tensor([0.1889])\n",
      "tensor([3.5200]) tensor([3.5204]) tensor([3.4286])\n"
     ]
    }
   ],
   "source": [
    "sigma_lanam = lanam.sigma_noise.detach() \n",
    "sigma_la = la.sigma_noise.detach()\n",
    "prior_lanam = lanam.prior_precision.detach()\n",
    "prior_la = la.prior_precision.detach()\n",
    "sigma_blr = blr.sigma_noise.detach()\n",
    "prior_blr = blr.prior_precision.detach()\n",
    "print(sigma_la, sigma_lanam, sigma_blr)\n",
    "print(prior_la, prior_lanam, prior_blr)\n",
    "np.testing.assert_allclose(sigma_la, sigma_lanam, atol=1e-3)\n",
    "np.testing.assert_allclose(prior_la, prior_lanam, atol=1e-3)"
   ]
  },
  {
   "cell_type": "code",
   "execution_count": 29,
   "metadata": {},
   "outputs": [
    {
     "data": {
      "image/png": "[encoded data removed]",
      "text/plain": [
       "<Figure size 640x480 with 3 Axes>"
      ]
     },
     "metadata": {},
     "output_type": "display_data"
    },
    {
     "data": {
      "image/png": "[encoded data removed]",
      "text/plain": [
       "<Figure size 640x480 with 1 Axes>"
      ]
     },
     "metadata": {},
     "output_type": "display_data"
    }
   ],
   "source": [
    "plot_predictive_posterior(lanam, testset)"
   ]
  },
  {
   "cell_type": "code",
   "execution_count": null,
   "metadata": {},
   "outputs": [],
   "source": []
  }
 ],
 "metadata": {
  "kernelspec": {
   "display_name": "Python (module anaconda)",
   "language": "python",
   "name": "python3"
  },
  "language_info": {
   "codemirror_mode": {
    "name": "ipython",
    "version": 3
   },
   "file_extension": ".py",
   "mimetype": "text/x-python",
   "name": "python",
   "nbconvert_exporter": "python",
   "pygments_lexer": "ipython3",
   "version": "3.10.8"
  }
 },
 "nbformat": 4,
 "nbformat_minor": 4
}
