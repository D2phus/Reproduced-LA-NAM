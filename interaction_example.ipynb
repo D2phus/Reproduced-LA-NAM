{
 "cells": [
  {
   "cell_type": "markdown",
   "metadata": {},
   "source": [
    "# Interaction Example\n",
    "$$\n",
    "X_1, X_2 \\sim \\mathcal{N}(\\boldsymbol{0}, \\Sigma^{-1}), \\quad \\Sigma = \\left[\\begin{array}{c}\n",
    "    2 &\\rho\\\\\n",
    "    \\rho & 2\n",
    "\\end{array}\\right]\\\\\n",
    "y = \\min(X_1, X_2) - 0.1X_1 - 0.1X_2\n",
    "$$"
   ]
  },
  {
   "cell_type": "code",
   "execution_count": 1,
   "metadata": {},
   "outputs": [],
   "source": [
    "import time \n",
    "import copy\n",
    "\n",
    "import torch\n",
    "import torch.nn as nn\n",
    "import torch.nn.functional as F\n",
    "from torch.nn.utils import parameters_to_vector, vector_to_parameters\n",
    "\n",
    "from mpl_toolkits.mplot3d import Axes3D\n",
    "import matplotlib.pyplot as plt\n",
    "\n",
    "import numpy as np\n",
    "from LANAM.models import LaNAM, NAM, BayesianLinearRegression\n",
    "from LANAM.config import *\n",
    "from LANAM.trainer import *\n",
    "from LANAM.trainer.nam_trainer import train\n",
    "from LANAM.data import *\n",
    "\n",
    "from LANAM.utils.plotting import * \n",
    "from LANAM.utils.output_filter import OutputFilter\n",
    "from LANAM.utils.wandb import *\n",
    "\n",
    "from laplace import Laplace\n",
    "from laplace import marglik_training as lamt\n",
    "from laplace.curvature.backpack import BackPackGGN"
   ]
  },
  {
   "cell_type": "markdown",
   "metadata": {},
   "source": [
    "v3-nam, concurvity, concurvity regularization\n",
    "v4-lanam, concurvity \n",
    "v5-nam, concurvity, l1 regularization\n",
    "v6-nam, sin3x, l1 regularization \n",
    "v7-lanam, sin3x, concurvity regularization \n",
    "v8-nam, concurvity, patience=10"
   ]
  },
  {
   "cell_type": "code",
   "execution_count": 2,
   "metadata": {},
   "outputs": [],
   "source": [
    "%reload_ext autoreload\n",
    "%autoreload 2"
   ]
  },
  {
   "cell_type": "code",
   "execution_count": null,
   "metadata": {},
   "outputs": [],
   "source": [
    "def generate_interaction_example(rho, min_max=True): \n",
    "    # rho = 0, 0.7, 0.9, 0.95, 0.99\n",
    "    data = interaction_example(rho=rho, min_max=min_max)\n",
    "\n",
    "\n",
    "    input_0, input_1 = data.features.T\n",
    "    target = data.targets\n",
    "    \n",
    "    plt.figure(figsize=(4, 4))\n",
    "    plt.scatter(input_0, input_1)\n",
    "    plt.xlabel('input_0')\n",
    "    plt.ylabel('input_1')\n",
    "    plot_3d(input_0, input_1, target)\n",
    "    \n",
    "    return data"
   ]
  },
  {
   "cell_type": "code",
   "execution_count": null,
   "metadata": {},
   "outputs": [],
   "source": [
    "rhos=[0, 0.7, 0.9, 0.95, 0.99]\n",
    "# rhos = [0.7]\n",
    "lanam_cfg = defaults()\n",
    "for rho in rhos: \n",
    "    data = generate_interaction_example(rho=rho)\n",
    "    in_features = data.in_features\n",
    "    train_dl, train_dl_fnn, val_dl, val_fnn = data.train_dataloaders()\n",
    "    test_samples = data.get_test_samples()\n",
    "    \n",
    "    lanam = LaNAM(config=lanam_cfg, name=\"LA-NAM\", in_features=in_features, hessian_structure='kron', subset_of_weights='last_layer')\n",
    "    lanam, margs, losses, perfs = marglik_training(lanam, \n",
    "                                                   train_dl, \n",
    "                                                   train_dl_fnn, \n",
    "                                                   val_dl, \n",
    "                                                   likelihood='regression', \n",
    "                                                   test_samples=test_samples,\n",
    "                                                   n_epochs=400, \n",
    "                                                   use_wandb=False, \n",
    "                                                   optimizer_kwargs={'lr': 1e-2}, \n",
    "                                                   log_loss_frequency=100, \n",
    "                                                   n_hypersteps=100, \n",
    "                                                   prior_prec_init=[1, 10], \n",
    "                                                  temperature=3)\n",
    "    \n",
    "    X, y, shape_functions, names = test_samples\n",
    "    prediction_mean, feature_contribution_mean, prediction_mean, feature_contribution_var = get_prediction(lanam, test_samples)\n",
    "    importance_fig = plot_feature_importance(lanam, test_samples)\n",
    "    recover_fig = plot_recovered_functions(X, y, shape_functions, feature_contribution_mean, feature_contribution_var.flatten(start_dim=1), center=False)       \n",
    "    # print(X.shape)\n",
    "    plot_3d(X[:, 0], X[:, 1], prediction_mean, y)"
   ]
  },
  {
   "cell_type": "code",
   "execution_count": null,
   "metadata": {},
   "outputs": [],
   "source": [
    "rhos=[0, 0.7, 0.9, 0.95, 0.99]\n",
    "# rhos = [0.7]\n",
    "lanam_cfg = defaults()\n",
    "for rho in rhos: \n",
    "    data = generate_interaction_example(rho=rho)\n",
    "    in_features = data.in_features\n",
    "    train_dl, train_dl_fnn, val_dl, val_fnn = data.train_dataloaders()\n",
    "    test_samples = data.get_test_samples()\n",
    "    \n",
    "    lanam = LaNAM(config=lanam_cfg, name=\"LA-NAM\", in_features=in_features, hessian_structure='kron', subset_of_weights='last_layer')\n",
    "    lanam, margs, losses, perfs = marglik_training(lanam, \n",
    "                                                   train_dl, \n",
    "                                                   train_dl_fnn, \n",
    "                                                   val_dl, \n",
    "                                                   likelihood='regression', \n",
    "                                                   test_samples=test_samples,\n",
    "                                                   n_epochs=400, \n",
    "                                                   use_wandb=False, \n",
    "                                                   optimizer_kwargs={'lr': 1e-2}, \n",
    "                                                   log_loss_frequency=100, \n",
    "                                                   n_hypersteps=100, \n",
    "                                                   prior_prec_init=[1, 10], \n",
    "                                                  temperature=3)\n",
    "    \n",
    "    X, y, shape_functions, names = test_samples\n",
    "    prediction_mean, feature_contribution_mean, prediction_mean, feature_contribution_var = get_prediction(lanam, test_samples)\n",
    "    importance_fig = plot_feature_importance(lanam, test_samples)\n",
    "    recover_fig = plot_recovered_functions(X, y, shape_functions, feature_contribution_mean, feature_contribution_var.flatten(start_dim=1), center=False)       \n",
    "    # print(X.shape)\n",
    "    plot_3d(X[:, 0], X[:, 1], prediction_mean, y)"
   ]
  },
  {
   "cell_type": "code",
   "execution_count": null,
   "metadata": {},
   "outputs": [],
   "source": [
    "rhos=[0, 0.7, 0.9, 0.95, 0.99]\n",
    "# rhos = [0.7]\n",
    "nam_cfg = toy_default()\n",
    "for rho in rhos: \n",
    "    data = generate_interaction_example(rho=rho)\n",
    "    in_features = data.in_features\n",
    "    train_dl, train_dl_fnn, val_dl, val_fnn = data.train_dataloaders()\n",
    "    test_samples = data.get_test_samples()\n",
    "    \n",
    "    nam = train(config=nam_cfg, train_loader=train_dl, val_loader=val_dl, ensemble=True)\n",
    "    \n",
    "    X, y, shape_functions, names = test_samples\n",
    "    prediction_mean, feature_contribution_mean, prediction_mean, feature_contribution_var = get_prediction(nam, test_samples)\n",
    "    importance_fig = plot_feature_importance(nam, test_samples)\n",
    "    recover_fig = plot_recovered_functions(X, y, shape_functions, feature_contribution_mean, feature_contribution_var.flatten(start_dim=1), center=False)       \n",
    "    # print(X.shape)\n",
    "    plot_3d(X[:, 0], X[:, 1], prediction_mean, y)"
   ]
  },
  {
   "cell_type": "code",
   "execution_count": null,
   "metadata": {},
   "outputs": [],
   "source": [
    "data = load_nonlinearly_dependent_2D_examples(num_samples=1000, dependent_functions=lambda x: torch.sin(3*x)) # uncorrelated features \n",
    "train_dl, train_fnn, val_dl, val_fnn = data.train_dataloaders()\n",
    "test_samples = data.get_test_samples()"
   ]
  },
  {
   "cell_type": "code",
   "execution_count": null,
   "metadata": {},
   "outputs": [],
   "source": [
    "cfg = toy_default()\n",
    "cfg.log_loss_frequency = 600\n",
    "cfg.concurvity_regularization = 0\n",
    "namwo = train(config=cfg, train_loader=train_dl, val_loader=val_dl, test_samples=test_samples, ensemble=True)"
   ]
  },
  {
   "cell_type": "code",
   "execution_count": null,
   "metadata": {},
   "outputs": [],
   "source": [
    "cfg = toy_default()\n",
    "cfg.log_loss_frequency = 50\n",
    "cfg.l2_regularization = 0.1\n",
    "cfg.concurvity_regularization = 0\n",
    "namwo = train(config=cfg, train_loader=train_dl, val_loader=val_dl, test_samples=test_samples, ensemble=True)"
   ]
  },
  {
   "cell_type": "code",
   "execution_count": null,
   "metadata": {},
   "outputs": [],
   "source": [
    "cfg = toy_default()\n",
    "cfg.log_loss_frequency = 100\n",
    "cfg.l1_regularization = 0.005\n",
    "cfg.concurvity_regularization = 0\n",
    "namwo = train(config=cfg, train_loader=train_dl, val_loader=val_dl, test_samples=test_samples, ensemble=True)"
   ]
  },
  {
   "cell_type": "code",
   "execution_count": null,
   "metadata": {},
   "outputs": [],
   "source": [
    "cfg.concurvity_regularization = 0.1\n",
    "namw = train(config=cfg, train_loader=train_dl, val_loader=val_dl, test_samples=test_samples, ensemble=True)"
   ]
  },
  {
   "cell_type": "code",
   "execution_count": null,
   "metadata": {},
   "outputs": [],
   "source": [
    "cfg = defaults()\n",
    "in_features = data.in_features\n",
    "lanam = LaNAM(config=cfg, name=\"LA-NAM\", in_features=in_features, hessian_structure='kron', subset_of_weights='last_layer')\n",
    "lanamwo, margs, losses, perfs = marglik_training(lanam, \n",
    "                                                   train_dl, \n",
    "                                                   train_fnn, \n",
    "                                                   val_dl, \n",
    "                                                   likelihood='regression', \n",
    "                                                   test_samples=test_samples,\n",
    "                                                   n_epochs=500, \n",
    "                                                   use_wandb=False, \n",
    "                                                   optimizer_kwargs={'lr': 1e-2}, \n",
    "                                                   concurvity_regularization=0)\n",
    "    "
   ]
  },
  {
   "cell_type": "code",
   "execution_count": null,
   "metadata": {},
   "outputs": [],
   "source": [
    "X, y, shape_functions, names = test_samples\n",
    "prediction_mean, feature_contribution_mean, prediction_mean, feature_contribution_var = get_prediction(lanamwo, test_samples)\n",
    "recover_fig = plot_recovered_functions(X, y, shape_functions, feature_contribution_mean, feature_contribution_var.flatten(start_dim=1), center=False)       \n",
    "importance_fig = plot_feature_importance(lanamwo, test_samples)"
   ]
  },
  {
   "cell_type": "markdown",
   "metadata": {},
   "source": [
    "### 2-Dimensional non-linearly dependent features\n",
    "$$\n",
    "\\begin{aligned}\n",
    "&Y = 0 \\cdot X_1 + 1 \\cdot X_2, \\\\\n",
    "&X_1 =  Z, \\\\\n",
    "&X_2 = |Z|, \\\\\n",
    "&Z \\sim \\mathcal{N}(0, 1), \\quad \\text{truncated by } (-1, 1)\n",
    "\\end{aligned}\n",
    "$$"
   ]
  },
  {
   "cell_type": "code",
   "execution_count": null,
   "metadata": {},
   "outputs": [],
   "source": [
    "data = load_nonlinearly_dependent_2D_examples(num_samples=1000) # uncorrelated features \n",
    "train_dl, train_fnn, val_dl, val_fnn = data.train_dataloaders()\n",
    "test_samples = data.get_test_samples()"
   ]
  },
  {
   "cell_type": "code",
   "execution_count": null,
   "metadata": {},
   "outputs": [],
   "source": [
    "cfg = toy_default()\n",
    "cfg.log_loss_frequency = 600\n",
    "cfg.concurvity_regularization = 0\n",
    "namwo = train(config=cfg, train_loader=train_dl, val_loader=val_dl, test_samples=test_samples, ensemble=True)"
   ]
  },
  {
   "cell_type": "code",
   "execution_count": null,
   "metadata": {},
   "outputs": [],
   "source": [
    "cfg.concurvity_regularization = 0.1\n",
    "namw = train(config=cfg, train_loader=train_dl, val_loader=val_dl, test_samples=test_samples, ensemble=True)"
   ]
  },
  {
   "cell_type": "code",
   "execution_count": null,
   "metadata": {},
   "outputs": [],
   "source": [
    "cfg = defaults()\n",
    "in_features = data.in_features\n",
    "lanam = LaNAM(config=cfg, name=\"LA-NAM\", in_features=in_features, hessian_structure='kron', subset_of_weights='last_layer')\n",
    "lanamwo, margs, losses, perfs = marglik_training(lanam, \n",
    "                                                   train_dl, \n",
    "                                                   train_fnn, \n",
    "                                                   val_dl, \n",
    "                                                   likelihood='regression', \n",
    "                                                   test_samples=test_samples,\n",
    "                                                   n_epochs=500, \n",
    "                                                   use_wandb=False, \n",
    "                                                   optimizer_kwargs={'lr': 1e-2}, \n",
    "                                                   concurvity_regularization=0)\n",
    "    "
   ]
  },
  {
   "cell_type": "code",
   "execution_count": null,
   "metadata": {},
   "outputs": [],
   "source": [
    "X, y, shape_functions, names = test_samples\n",
    "prediction_mean, feature_contribution_mean, prediction_mean, feature_contribution_var = get_prediction(lanamwo, test_samples)\n",
    "recover_fig = plot_recovered_functions(X, y, shape_functions, feature_contribution_mean, feature_contribution_var.flatten(start_dim=1), center=False)       \n",
    "importance_fig = plot_feature_importance(lanamwo, test_samples)"
   ]
  },
  {
   "cell_type": "code",
   "execution_count": null,
   "metadata": {},
   "outputs": [],
   "source": [
    "cfg = defaults()\n",
    "lanam = LaNAM(config=cfg, name=\"LA-NAM\", in_features=in_features, hessian_structure='kron', subset_of_weights='last_layer')\n",
    "lanamw, margs, losses, perfs = marglik_training(lanam, \n",
    "                                                   train_dl, \n",
    "                                                   train_fnn, \n",
    "                                                   val_dl, \n",
    "                                                   likelihood='regression', \n",
    "                                                   test_samples=test_samples,\n",
    "                                                   n_epochs=500, \n",
    "                                                   use_wandb=False, \n",
    "                                                   optimizer_kwargs={'lr': 1e-2}, \n",
    "                                                   concurvity_regularization=0.1)\n",
    "    "
   ]
  },
  {
   "cell_type": "code",
   "execution_count": null,
   "metadata": {},
   "outputs": [],
   "source": [
    "X, y, shape_functions, names = test_samples\n",
    "prediction_mean, feature_contribution_mean, prediction_mean, feature_contribution_var = get_prediction(lanamw, test_samples)\n",
    "recover_fig = plot_recovered_functions(X, y, shape_functions, feature_contribution_mean, feature_contribution_var.flatten(start_dim=1), center=False)       \n",
    "importance_fig = plot_feature_importance(lanamw, test_samples)"
   ]
  },
  {
   "cell_type": "markdown",
   "metadata": {},
   "source": [
    "### Concurvity examples\n",
    "$$\n",
    "X_1 \\sim X_2 \\sim X_3 \\sim U(0,1)\\\\\n",
    "X_4 = X_2^3 + X_3 ^ 2 + \\sigma_1\\\\\n",
    "X_5 = X_3^2+\\sigma_1\\\\\n",
    "X_6 = X_2^2 + X_4^3+\\sigma_1 \\\\\n",
    "X_7 = X_1 \\times X_4 +\\sigma_1\\\\\n",
    "Y = 2X_1^2 + X_5^3 + 2\\sin X_6+\\sigma_2\n",
    "$$"
   ]
  },
  {
   "cell_type": "code",
   "execution_count": 3,
   "metadata": {},
   "outputs": [
    {
     "name": "stdout",
     "output_type": "stream",
     "text": [
      "torch.Size([1000, 7])\n"
     ]
    }
   ],
   "source": [
    "data = load_concurvity_data(sigma_1=0.05, sigma_2=0.5, num_samples=1000)\n",
    "train_dl, train_dl_fnn, val_dl, val_dl_fnn = data.train_dataloaders()\n",
    "test_dl, test_dl_fnn = data.test_dataloaders()\n",
    "test_samples = data.get_test_samples()\n",
    "in_features = data.in_features"
   ]
  },
  {
   "cell_type": "code",
   "execution_count": 4,
   "metadata": {},
   "outputs": [
    {
     "ename": "KeyboardInterrupt",
     "evalue": "",
     "output_type": "error",
     "traceback": [
      "\u001b[0;31m---------------------------------------------------------------------------\u001b[0m",
      "\u001b[0;31mKeyboardInterrupt\u001b[0m                         Traceback (most recent call last)",
      "Cell \u001b[0;32mIn[4], line 3\u001b[0m\n\u001b[1;32m      1\u001b[0m cfg \u001b[38;5;241m=\u001b[39m toy_default()\n\u001b[1;32m      2\u001b[0m cfg\u001b[38;5;241m.\u001b[39mconcurvity_regularization \u001b[38;5;241m=\u001b[39m \u001b[38;5;241m0.001\u001b[39m\n\u001b[0;32m----> 3\u001b[0m namw \u001b[38;5;241m=\u001b[39m \u001b[43mtrain\u001b[49m\u001b[43m(\u001b[49m\u001b[43mconfig\u001b[49m\u001b[38;5;241;43m=\u001b[39;49m\u001b[43mcfg\u001b[49m\u001b[43m,\u001b[49m\u001b[43m \u001b[49m\u001b[43mtrain_loader\u001b[49m\u001b[38;5;241;43m=\u001b[39;49m\u001b[43mtrain_dl\u001b[49m\u001b[43m,\u001b[49m\u001b[43m \u001b[49m\u001b[43mval_loader\u001b[49m\u001b[38;5;241;43m=\u001b[39;49m\u001b[43mval_dl\u001b[49m\u001b[43m,\u001b[49m\u001b[43m \u001b[49m\u001b[43mtest_samples\u001b[49m\u001b[38;5;241;43m=\u001b[39;49m\u001b[43mtest_samples\u001b[49m\u001b[43m,\u001b[49m\u001b[43m \u001b[49m\u001b[43mensemble\u001b[49m\u001b[38;5;241;43m=\u001b[39;49m\u001b[38;5;28;43;01mTrue\u001b[39;49;00m\u001b[43m)\u001b[49m\n",
      "File \u001b[0;32m/scratch/work/zhangx18/Reproduced-LA-NAM/LANAM/trainer/nam_trainer/train.py:112\u001b[0m, in \u001b[0;36mtrain\u001b[0;34m(config, train_loader, val_loader, test_samples, ensemble, use_wandb)\u001b[0m\n\u001b[1;32m    110\u001b[0m \u001b[38;5;28;01melse\u001b[39;00m: \n\u001b[1;32m    111\u001b[0m     loss_train, metrics_train, R_train, im_train \u001b[38;5;241m=\u001b[39m ensemble_train_epoch(criterion, metrics, optimizers, schedulers, models, device, train_loader, conc_reg\u001b[38;5;241m=\u001b[39m\u001b[38;5;28;01mTrue\u001b[39;00m)\n\u001b[0;32m--> 112\u001b[0m     loss_val, metrics_val, R_val \u001b[38;5;241m=\u001b[39m \u001b[43mensemble_evaluate_epoch\u001b[49m\u001b[43m(\u001b[49m\u001b[43mcriterion\u001b[49m\u001b[43m,\u001b[49m\u001b[43m \u001b[49m\u001b[43mmetrics\u001b[49m\u001b[43m,\u001b[49m\u001b[43m \u001b[49m\u001b[43mmodels\u001b[49m\u001b[43m,\u001b[49m\u001b[43m \u001b[49m\u001b[43mdevice\u001b[49m\u001b[43m,\u001b[49m\u001b[43m \u001b[49m\u001b[43mval_loader\u001b[49m\u001b[43m,\u001b[49m\u001b[43m \u001b[49m\u001b[43mconc_reg\u001b[49m\u001b[38;5;241;43m=\u001b[39;49m\u001b[38;5;28;43;01mTrue\u001b[39;49;00m\u001b[43m)\u001b[49m\n\u001b[1;32m    114\u001b[0m     \u001b[38;5;66;03m# early stopping on the penalized loss\u001b[39;00m\n\u001b[1;32m    115\u001b[0m     \u001b[38;5;28;01mif\u001b[39;00m early_stopper\u001b[38;5;241m.\u001b[39mearly_stop(loss_val):  \n",
      "File \u001b[0;32m/scratch/work/zhangx18/Reproduced-LA-NAM/LANAM/trainer/nam_trainer/epoch.py:126\u001b[0m, in \u001b[0;36mensemble_evaluate_epoch\u001b[0;34m(criterion, metrics, models, device, dataloader, conc_reg)\u001b[0m\n\u001b[1;32m    124\u001b[0m pred_map, fnn_map \u001b[38;5;241m=\u001b[39m torch\u001b[38;5;241m.\u001b[39mvmap(call_single_model, (\u001b[38;5;241m0\u001b[39m, \u001b[38;5;241m0\u001b[39m, \u001b[38;5;28;01mNone\u001b[39;00m))(params, buffers, X) \u001b[38;5;66;03m# (num_ensemble, batch_size, out_features)\u001b[39;00m\n\u001b[1;32m    125\u001b[0m \u001b[38;5;28;01mfor\u001b[39;00m idx, model \u001b[38;5;129;01min\u001b[39;00m \u001b[38;5;28menumerate\u001b[39m(models):\n\u001b[0;32m--> 126\u001b[0m     step_loss \u001b[38;5;241m=\u001b[39m \u001b[43mcriterion\u001b[49m\u001b[43m(\u001b[49m\u001b[43mpred_map\u001b[49m\u001b[43m[\u001b[49m\u001b[43midx\u001b[49m\u001b[43m]\u001b[49m\u001b[43m,\u001b[49m\u001b[43m \u001b[49m\u001b[43mfnn_map\u001b[49m\u001b[43m[\u001b[49m\u001b[43midx\u001b[49m\u001b[43m]\u001b[49m\u001b[43m,\u001b[49m\u001b[43m \u001b[49m\u001b[43mmodel\u001b[49m\u001b[43m,\u001b[49m\u001b[43m \u001b[49m\u001b[43my\u001b[49m\u001b[43m,\u001b[49m\u001b[43m \u001b[49m\u001b[43mconc_reg\u001b[49m\u001b[43m)\u001b[49m\n\u001b[1;32m    127\u001b[0m     step_metrics \u001b[38;5;241m=\u001b[39m metrics(pred_map[idx], y)\n\u001b[1;32m    128\u001b[0m     step_R \u001b[38;5;241m=\u001b[39m concurvity(fnn_map[idx])\n",
      "File \u001b[0;32m/scratch/work/zhangx18/Reproduced-LA-NAM/LANAM/trainer/nam_trainer/train.py:69\u001b[0m, in \u001b[0;36mtrain.<locals>.<lambda>\u001b[0;34m(nam_out, fnn_out, model, targets, conc_reg)\u001b[0m\n\u001b[1;32m     66\u001b[0m seeds \u001b[38;5;241m=\u001b[39m [\u001b[38;5;241m*\u001b[39m\u001b[38;5;28mrange\u001b[39m(num_ensemble)]\n\u001b[1;32m     68\u001b[0m \u001b[38;5;66;03m# set up criterion and metrics\u001b[39;00m\n\u001b[0;32m---> 69\u001b[0m criterion \u001b[38;5;241m=\u001b[39m \u001b[38;5;28;01mlambda\u001b[39;00m nam_out, fnn_out, model, targets, conc_reg: \u001b[43mpenalized_loss\u001b[49m\u001b[43m(\u001b[49m\u001b[43mconfig\u001b[49m\u001b[43m,\u001b[49m\u001b[43m \u001b[49m\u001b[43mnam_out\u001b[49m\u001b[43m,\u001b[49m\u001b[43m \u001b[49m\u001b[43mfnn_out\u001b[49m\u001b[43m,\u001b[49m\u001b[43m \u001b[49m\u001b[43mmodel\u001b[49m\u001b[43m,\u001b[49m\u001b[43m \u001b[49m\u001b[43mtargets\u001b[49m\u001b[43m,\u001b[49m\u001b[43m \u001b[49m\u001b[43mconc_reg\u001b[49m\u001b[43m)\u001b[49m\n\u001b[1;32m     70\u001b[0m metrics \u001b[38;5;241m=\u001b[39m \u001b[38;5;28;01mlambda\u001b[39;00m nam_out, targets: mse(nam_out, targets) \u001b[38;5;28;01mif\u001b[39;00m config\u001b[38;5;241m.\u001b[39mregression \u001b[38;5;28;01melse\u001b[39;00m accuracy(nam_out, targets)\n\u001b[1;32m     72\u001b[0m \u001b[38;5;66;03m# annotation\u001b[39;00m\n",
      "File \u001b[0;32m/scratch/work/zhangx18/Reproduced-LA-NAM/LANAM/trainer/nam_trainer/losses.py:109\u001b[0m, in \u001b[0;36mpenalized_loss\u001b[0;34m(config, nam_out, fnn_out, model, targets, conc_reg)\u001b[0m\n\u001b[1;32m    105\u001b[0m     loss \u001b[38;5;241m+\u001b[39m\u001b[38;5;241m=\u001b[39m l2_regularization \u001b[38;5;241m*\u001b[39m weight_decay(model) \u001b[38;5;66;03m# weight decay\u001b[39;00m\n\u001b[1;32m    107\u001b[0m \u001b[38;5;28;01mif\u001b[39;00m conc_reg \u001b[38;5;129;01mand\u001b[39;00m concurvity_regularization \u001b[38;5;241m>\u001b[39m \u001b[38;5;241m0\u001b[39m:\n\u001b[1;32m    108\u001b[0m     \u001b[38;5;66;03m# concurvity regularizer \u001b[39;00m\n\u001b[0;32m--> 109\u001b[0m     loss \u001b[38;5;241m+\u001b[39m\u001b[38;5;241m=\u001b[39m concurvity_regularization \u001b[38;5;241m*\u001b[39m \u001b[43mconcurvity\u001b[49m\u001b[43m(\u001b[49m\u001b[43mfnn_out\u001b[49m\u001b[43m)\u001b[49m \u001b[38;5;66;03m# concurvity decay\u001b[39;00m\n\u001b[1;32m    111\u001b[0m \u001b[38;5;28;01mif\u001b[39;00m l1_regularization \u001b[38;5;241m>\u001b[39m \u001b[38;5;241m0\u001b[39m: \n\u001b[1;32m    112\u001b[0m     \u001b[38;5;66;03m# L1 regularizer \u001b[39;00m\n\u001b[1;32m    113\u001b[0m     loss \u001b[38;5;241m+\u001b[39m\u001b[38;5;241m=\u001b[39m l1_regularization \u001b[38;5;241m*\u001b[39m  weight_decay(model, d\u001b[38;5;241m=\u001b[39m\u001b[38;5;241m1\u001b[39m)\n",
      "File \u001b[0;32m/scratch/work/zhangx18/Reproduced-LA-NAM/LANAM/utils/plotting.py:58\u001b[0m, in \u001b[0;36mconcurvity\u001b[0;34m(X, eps)\u001b[0m\n\u001b[1;32m     55\u001b[0m in_features \u001b[38;5;241m=\u001b[39m X\u001b[38;5;241m.\u001b[39mshape[\u001b[38;5;241m1\u001b[39m]\n\u001b[1;32m     56\u001b[0m cov \u001b[38;5;241m=\u001b[39m pairwise_correlation(X, eps)\n\u001b[0;32m---> 58\u001b[0m R \u001b[38;5;241m=\u001b[39m \u001b[43mtorch\u001b[49m\u001b[38;5;241;43m.\u001b[39;49m\u001b[43mtriu\u001b[49m\u001b[43m(\u001b[49m\u001b[43mcov\u001b[49m\u001b[38;5;241;43m.\u001b[39;49m\u001b[43mabs\u001b[49m\u001b[43m(\u001b[49m\u001b[43m)\u001b[49m\u001b[43m,\u001b[49m\u001b[43m \u001b[49m\u001b[43mdiagonal\u001b[49m\u001b[38;5;241;43m=\u001b[39;49m\u001b[38;5;241;43m1\u001b[39;49m\u001b[43m)\u001b[49m\u001b[38;5;241m.\u001b[39msum()\n\u001b[1;32m     59\u001b[0m R \u001b[38;5;241m/\u001b[39m\u001b[38;5;241m=\u001b[39m (in_features\u001b[38;5;241m*\u001b[39m(in_features\u001b[38;5;241m-\u001b[39m\u001b[38;5;241m1\u001b[39m)\u001b[38;5;241m/\u001b[39m\u001b[38;5;241m2\u001b[39m)\n\u001b[1;32m     60\u001b[0m \u001b[38;5;28;01mreturn\u001b[39;00m R\n",
      "\u001b[0;31mKeyboardInterrupt\u001b[0m: "
     ]
    }
   ],
   "source": [
    "cfg = toy_default()\n",
    "cfg.concurvity_regularization = 0.001\n",
    "namw = train(config=cfg, train_loader=train_dl, val_loader=val_dl, test_samples=test_samples, ensemble=True)"
   ]
  },
  {
   "cell_type": "code",
   "execution_count": null,
   "metadata": {},
   "outputs": [],
   "source": [
    "cfg = toy_default()\n",
    "cfg.concurvity_regularization = 0\n",
    "namw = train(config=cfg, train_loader=train_dl, val_loader=val_dl, test_samples=test_samples, ensemble=True)"
   ]
  },
  {
   "cell_type": "code",
   "execution_count": 9,
   "metadata": {},
   "outputs": [
    {
     "name": "stdout",
     "output_type": "stream",
     "text": [
      "[Epoch=100, Train_RMSE:  0.906, Train_R_perp:  0.007, Val_RMSE:  0.478, Val_R_perp:  0.003, n_hypersteps=29]: observed noise= 1.402, prior precision=tensor([4.3582, 3.1723, 9.0046, 8.9876, 8.9039, 8.9442, 9.0205])\n",
      "[Epoch=200, Train_RMSE:  0.906, Train_R_perp:  0.123, Val_RMSE:  0.480, Val_R_perp:  0.035, n_hypersteps=29]: observed noise= 1.269, prior precision=tensor([  2.7671,   2.1398, 165.4810, 167.7433, 163.2713, 167.4069, 168.7156])\n",
      "[Epoch=300, Train_RMSE:  0.904, Train_R_perp:  0.125, Val_RMSE:  0.480, Val_R_perp:  0.035, n_hypersteps=29]: observed noise= 1.277, prior precision=tensor([   2.7299,    2.1534, 1880.8369, 1820.0192, 1782.5365, 1777.0347,\n",
      "        1768.9667])\n",
      "MARGLIK: finished training. Recover best model and fit Laplace.\n"
     ]
    }
   ],
   "source": [
    "cfg = defaults()\n",
    "\n",
    "lanam = LaNAM(config=cfg, name=\"LA-NAM\", in_features=in_features, hessian_structure='kron', subset_of_weights='last_layer')\n",
    "lanam, margs, losses, perfs = marglik_training(lanam, \n",
    "                                                   train_dl, \n",
    "                                                   train_dl_fnn, \n",
    "                                                   test_dl, \n",
    "                                                   likelihood='regression', \n",
    "                                                   test_samples=test_samples,\n",
    "                                                   n_epochs=300, \n",
    "                                                   use_wandb=False, \n",
    "                                                   optimizer_kwargs={'lr': 1e-2}, \n",
    "                                                   concurvity_regularization=0, \n",
    "                                                  log_loss_frequency=20, \n",
    "                                                  temperature=0.5)\n",
    "    "
   ]
  },
  {
   "cell_type": "code",
   "execution_count": 10,
   "metadata": {},
   "outputs": [
    {
     "data": {
      "image/png": "[encoded data removed]",
      "text/plain": [
       "<Figure size 800x400 with 8 Axes>"
      ]
     },
     "metadata": {},
     "output_type": "display_data"
    },
    {
     "data": {
      "image/png": "[encoded data removed]",
      "text/plain": [
       "<Figure size 300x300 with 1 Axes>"
      ]
     },
     "metadata": {},
     "output_type": "display_data"
    }
   ],
   "source": [
    "X, y, shape_functions, names = test_samples\n",
    "prediction_mean, feature_contribution_mean, prediction_mean, feature_contribution_var = get_prediction(lanam, test_samples)\n",
    "recover_fig = plot_recovered_functions(X, y, shape_functions, feature_contribution_mean, feature_contribution_var.flatten(start_dim=1), center=False)       \n",
    "importance_fig = plot_feature_importance(lanam, test_samples)"
   ]
  },
  {
   "cell_type": "code",
   "execution_count": null,
   "metadata": {},
   "outputs": [],
   "source": [
    "cfg = defaults()\n",
    "w_lanam = LaNAM(config=cfg, name=\"LA-NAM\", in_features=in_features, hessian_structure='kron', subset_of_weights='last_layer')\n",
    "w_lanam, margs, losses, perfs = marglik_training(w_lanam, \n",
    "                                                   train_dl, \n",
    "                                                   train_dl_fnn, \n",
    "                                                   test_dl, \n",
    "                                                   likelihood='regression', \n",
    "                                                   test_samples=test_samples,\n",
    "                                                   n_epochs=500, \n",
    "                                                   use_wandb=False, \n",
    "                                                   optimizer_kwargs={'lr': 1e-2}, \n",
    "                                                   concurvity_regularization=0.1, \n",
    "                                                  log_loss_frequency=20)\n",
    "    "
   ]
  },
  {
   "cell_type": "code",
   "execution_count": null,
   "metadata": {},
   "outputs": [],
   "source": [
    "X, y, shape_functions, names = test_samples\n",
    "prediction_mean, feature_contribution_mean, prediction_mean, feature_contribution_var = get_prediction(w_lanam, test_samples)\n",
    "recover_fig = plot_recovered_functions(X, y, shape_functions, feature_contribution_mean, feature_contribution_var.flatten(start_dim=1), center=False)       \n",
    "importance_fig = plot_feature_importance(w_lanam, test_samples)"
   ]
  },
  {
   "cell_type": "code",
   "execution_count": null,
   "metadata": {},
   "outputs": [],
   "source": []
  }
 ],
 "metadata": {
  "kernelspec": {
   "display_name": "Python (module anaconda)",
   "language": "python",
   "name": "python3"
  },
  "language_info": {
   "codemirror_mode": {
    "name": "ipython",
    "version": 3
   },
   "file_extension": ".py",
   "mimetype": "text/x-python",
   "name": "python",
   "nbconvert_exporter": "python",
   "pygments_lexer": "ipython3",
   "version": "3.10.10"
  }
 },
 "nbformat": 4,
 "nbformat_minor": 4
}
